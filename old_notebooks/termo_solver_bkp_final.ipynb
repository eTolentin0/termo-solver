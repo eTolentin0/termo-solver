{
 "cells": [
  {
   "cell_type": "code",
   "execution_count": 3,
   "id": "76a0546c-f598-47c8-a42a-e652ced2eed0",
   "metadata": {
    "collapsed": true,
    "jupyter": {
     "outputs_hidden": true
    },
    "tags": []
   },
   "outputs": [
    {
     "ename": "NameError",
     "evalue": "name 'palavras' is not defined",
     "output_type": "error",
     "traceback": [
      "\u001b[1;31m---------------------------------------------------------------------------\u001b[0m",
      "\u001b[1;31mNameError\u001b[0m                                 Traceback (most recent call last)",
      "\u001b[1;32m<ipython-input-3-485eaeabf26b>\u001b[0m in \u001b[0;36m<module>\u001b[1;34m\u001b[0m\n\u001b[0;32m      1\u001b[0m \u001b[1;32mwith\u001b[0m \u001b[0mopen\u001b[0m\u001b[1;33m(\u001b[0m\u001b[1;34m'palavras_termo.txt'\u001b[0m\u001b[1;33m,\u001b[0m\u001b[1;34m'w'\u001b[0m\u001b[1;33m,\u001b[0m \u001b[0mencoding\u001b[0m \u001b[1;33m=\u001b[0m \u001b[1;34m'utf8'\u001b[0m\u001b[1;33m)\u001b[0m \u001b[1;32mas\u001b[0m \u001b[0mf\u001b[0m\u001b[1;33m:\u001b[0m\u001b[1;33m\u001b[0m\u001b[1;33m\u001b[0m\u001b[0m\n\u001b[1;32m----> 2\u001b[1;33m     \u001b[1;32mfor\u001b[0m \u001b[0mpalavra\u001b[0m \u001b[1;32min\u001b[0m \u001b[0mpalavras\u001b[0m\u001b[1;33m:\u001b[0m\u001b[1;33m\u001b[0m\u001b[1;33m\u001b[0m\u001b[0m\n\u001b[0m\u001b[0;32m      3\u001b[0m         \u001b[0mf\u001b[0m\u001b[1;33m.\u001b[0m\u001b[0mwrite\u001b[0m\u001b[1;33m(\u001b[0m\u001b[1;34m\"%s\\n\"\u001b[0m \u001b[1;33m%\u001b[0m \u001b[0mpalavra\u001b[0m\u001b[1;33m)\u001b[0m\u001b[1;33m\u001b[0m\u001b[1;33m\u001b[0m\u001b[0m\n\u001b[0;32m      4\u001b[0m     \u001b[0mprint\u001b[0m\u001b[1;33m(\u001b[0m\u001b[1;34m'done'\u001b[0m\u001b[1;33m)\u001b[0m\u001b[1;33m\u001b[0m\u001b[1;33m\u001b[0m\u001b[0m\n",
      "\u001b[1;31mNameError\u001b[0m: name 'palavras' is not defined"
     ]
    }
   ],
   "source": [
    "#não executar, apenas mandar para o final para adicionar palavras\n",
    "\n",
    "with open('palavras_termo.txt','w', encoding = 'utf8') as f:\n",
    "    for palavra in palavras:\n",
    "        f.write(\"%s\\n\" % palavra)\n",
    "    print('done')\n"
   ]
  },
  {
   "cell_type": "code",
   "execution_count": 41,
   "id": "a7132831-2596-4988-b452-3e2c7fefe03f",
   "metadata": {},
   "outputs": [],
   "source": [
    "import pandas as pd\n",
    "import numpy as np"
   ]
  },
  {
   "cell_type": "code",
   "execution_count": 45,
   "id": "6d06071b-33eb-4030-b147-ad8e308a11bb",
   "metadata": {},
   "outputs": [],
   "source": [
    "import unicodedata\n",
    "import re\n",
    "\n",
    "def remove_acentos(string):\n",
    "    normalized = unicodedata.normalize('NFD', string)\n",
    "    return re.sub(r'[\\u0300-\\u036f]', '', normalized).casefold()"
   ]
  },
  {
   "cell_type": "code",
   "execution_count": 43,
   "id": "cef58651-0443-4b2b-b9e6-776a747e551e",
   "metadata": {},
   "outputs": [
    {
     "data": {
      "text/plain": [
       "(1, 2)"
      ]
     },
     "execution_count": 43,
     "metadata": {},
     "output_type": "execute_result"
    }
   ],
   "source": [
    "def conta_vogais(palavra):\n",
    "    \n",
    "    contador = 0\n",
    "    vogais = 'aeiouAEIOU'\n",
    "    allowed = frozenset('aeiouAEIOU')\n",
    "    \n",
    "    for letra in palavra:\n",
    "        if letra in vogais:\n",
    "            contador += 1\n",
    "    vogais_unicas = len(allowed.intersection(palavra))\n",
    "    \n",
    "    return vogais_unicas, contador\n",
    "\n",
    "\n",
    "conta_vogais('perde')    \n",
    "\n"
   ]
  },
  {
   "cell_type": "code",
   "execution_count": null,
   "id": "e7aedb45-776a-4e46-bc2f-b4ba89cd5c3a",
   "metadata": {},
   "outputs": [],
   "source": []
  },
  {
   "cell_type": "code",
   "execution_count": 127,
   "id": "7b2c9b38-cec9-4582-83e4-fd8cd28da1ba",
   "metadata": {
    "scrolled": true,
    "tags": []
   },
   "outputs": [
    {
     "data": {
      "text/html": [
       "<div>\n",
       "<style scoped>\n",
       "    .dataframe tbody tr th:only-of-type {\n",
       "        vertical-align: middle;\n",
       "    }\n",
       "\n",
       "    .dataframe tbody tr th {\n",
       "        vertical-align: top;\n",
       "    }\n",
       "\n",
       "    .dataframe thead th {\n",
       "        text-align: right;\n",
       "    }\n",
       "</style>\n",
       "<table border=\"1\" class=\"dataframe\">\n",
       "  <thead>\n",
       "    <tr style=\"text-align: right;\">\n",
       "      <th></th>\n",
       "      <th>palavra</th>\n",
       "      <th>n_vogais</th>\n",
       "      <th>vogais_unicas</th>\n",
       "      <th>letra_0</th>\n",
       "      <th>letra_1</th>\n",
       "      <th>letra_2</th>\n",
       "      <th>letra_3</th>\n",
       "      <th>letra_4</th>\n",
       "    </tr>\n",
       "  </thead>\n",
       "  <tbody>\n",
       "    <tr>\n",
       "      <th>0</th>\n",
       "      <td>aarao</td>\n",
       "      <td>4</td>\n",
       "      <td>2</td>\n",
       "      <td>a</td>\n",
       "      <td>a</td>\n",
       "      <td>r</td>\n",
       "      <td>a</td>\n",
       "      <td>o</td>\n",
       "    </tr>\n",
       "    <tr>\n",
       "      <th>1</th>\n",
       "      <td>abner</td>\n",
       "      <td>2</td>\n",
       "      <td>2</td>\n",
       "      <td>a</td>\n",
       "      <td>b</td>\n",
       "      <td>n</td>\n",
       "      <td>e</td>\n",
       "      <td>r</td>\n",
       "    </tr>\n",
       "    <tr>\n",
       "      <th>2</th>\n",
       "      <td>acaia</td>\n",
       "      <td>4</td>\n",
       "      <td>2</td>\n",
       "      <td>a</td>\n",
       "      <td>c</td>\n",
       "      <td>a</td>\n",
       "      <td>i</td>\n",
       "      <td>a</td>\n",
       "    </tr>\n",
       "    <tr>\n",
       "      <th>3</th>\n",
       "      <td>acker</td>\n",
       "      <td>2</td>\n",
       "      <td>2</td>\n",
       "      <td>a</td>\n",
       "      <td>c</td>\n",
       "      <td>k</td>\n",
       "      <td>e</td>\n",
       "      <td>r</td>\n",
       "    </tr>\n",
       "    <tr>\n",
       "      <th>4</th>\n",
       "      <td>aires</td>\n",
       "      <td>3</td>\n",
       "      <td>3</td>\n",
       "      <td>a</td>\n",
       "      <td>i</td>\n",
       "      <td>r</td>\n",
       "      <td>e</td>\n",
       "      <td>s</td>\n",
       "    </tr>\n",
       "  </tbody>\n",
       "</table>\n",
       "</div>"
      ],
      "text/plain": [
       "  palavra  n_vogais  vogais_unicas letra_0 letra_1 letra_2 letra_3 letra_4\n",
       "0   aarao         4              2       a       a       r       a       o\n",
       "1   abner         2              2       a       b       n       e       r\n",
       "2   acaia         4              2       a       c       a       i       a\n",
       "3   acker         2              2       a       c       k       e       r\n",
       "4   aires         3              3       a       i       r       e       s"
      ]
     },
     "execution_count": 127,
     "metadata": {},
     "output_type": "execute_result"
    }
   ],
   "source": [
    "palavras = []\n",
    "file = open('br-utf8.txt', 'r', encoding = 'utf8')\n",
    "\n",
    "while True:\n",
    "    line = file.readline()\n",
    "    palavra = line.strip().replace('\\n','')\n",
    "    if not line:\n",
    "        break\n",
    "    if len(palavra) == 5:\n",
    "        #print(palavra)\n",
    "        palavras.append(remove_acentos(palavra))\n",
    "        \n",
    "\n",
    "file.close()\n",
    "\n",
    "\n",
    "#nesse caso não tem a palavra lermo, então vamos remover da lista e rodar novamente\n",
    "#criar uma função para quando isso acontecer e criar uma lista das palavras que o termo não aceita!\n",
    "#assim podemos ir melhorando o algoritmo\n",
    "\n",
    "palavras.remove('lermo')\n",
    "palavras.remove('canaa')\n",
    "palavras.remove('propo')\n",
    "palavras.remove('coemo')\n",
    "palavras.remove('doemo')\n",
    "\n",
    "#print(len(palavras))\n",
    "df = pd.DataFrame(palavras)\n",
    "df.drop_duplicates(inplace = True)\n",
    "df.rename(columns = {0:'palavra'}, inplace = True)\n",
    "\n",
    "df['n_vogais'] = df['palavra'].apply(lambda x: conta_vogais(x)[1])\n",
    "df['vogais_unicas'] = df['palavra'].apply(lambda x: conta_vogais(x)[0])\n",
    "\n",
    "\n",
    "df['letra_0'] = df.palavra.str[0]\n",
    "df['letra_1'] = df.palavra.str[1]\n",
    "df['letra_2'] = df.palavra.str[2]\n",
    "df['letra_3'] = df.palavra.str[3]\n",
    "df['letra_4'] = df.palavra.str[4]\n",
    "\n",
    "df.head()"
   ]
  },
  {
   "cell_type": "code",
   "execution_count": 128,
   "id": "8d265966-b087-4ffe-b0a6-acc92d0eba62",
   "metadata": {},
   "outputs": [],
   "source": [
    "df.to_csv('br-utf8.csv', index = False)"
   ]
  },
  {
   "cell_type": "markdown",
   "id": "298de44e-f959-4301-b5e3-48a02f97d458",
   "metadata": {},
   "source": [
    "# Função de sortear palavra\n",
    "estou usando esse metodo até criar um esquema de pontuação para as palavras\n",
    "\n",
    "(depois necessário criação de CSV com a pontuação e todo a manipulação de dados, para que no final só fique o filtro!)"
   ]
  },
  {
   "cell_type": "code",
   "execution_count": 311,
   "id": "5779b679-f337-4f5b-9dac-5162af556538",
   "metadata": {},
   "outputs": [],
   "source": [
    "import random\n",
    "\n",
    "def sorteia_palavra(lista_palavra):\n",
    "    if len(lista_palavra) == 1:\n",
    "        return lista_palavra[0]\n",
    "    else:\n",
    "        return lista_palavra[random.randint(0,(len(lista_palavra)-1))]\n",
    "\n"
   ]
  },
  {
   "cell_type": "code",
   "execution_count": 51,
   "id": "1b50be42-1f6e-4e41-9826-aaa769d98205",
   "metadata": {},
   "outputs": [],
   "source": [
    "melhores_palavras_para_vogais = df[df.vogais_unicas == 4]\n",
    "#escolher entre essas palavras para começar"
   ]
  },
  {
   "cell_type": "markdown",
   "id": "096783d1-7512-448f-bc5e-b3777ca768d8",
   "metadata": {},
   "source": [
    "# Startando o termoo no navegador\n",
    "aqui seria onde comecei a entender como fazer a busca pela palavra e tentar criar alguma metrica pra achar letras nas strings\n",
    "\n",
    "\n",
    "como proceder com palavras que tem letras repetidas?\n",
    "\n",
    "aqui podemos fazer uma condição para cada posição estar com a letra certa\n",
    "\n",
    "\n",
    "while pos1 == wrongletter or pos2 == wrongletter or pos3 == wrongletter or pos4 == wrongletter or pos5 == wrongletter\n",
    "\n",
    "e ir lupando nas tentativas que temos, que aparentemente são 6"
   ]
  },
  {
   "cell_type": "code",
   "execution_count": 111,
   "id": "624ea126-5249-4682-945a-263416987904",
   "metadata": {},
   "outputs": [
    {
     "data": {
      "text/html": [
       "<div>\n",
       "<style scoped>\n",
       "    .dataframe tbody tr th:only-of-type {\n",
       "        vertical-align: middle;\n",
       "    }\n",
       "\n",
       "    .dataframe tbody tr th {\n",
       "        vertical-align: top;\n",
       "    }\n",
       "\n",
       "    .dataframe thead th {\n",
       "        text-align: right;\n",
       "    }\n",
       "</style>\n",
       "<table border=\"1\" class=\"dataframe\">\n",
       "  <thead>\n",
       "    <tr style=\"text-align: right;\">\n",
       "      <th></th>\n",
       "      <th>palavra</th>\n",
       "      <th>n_vogais</th>\n",
       "      <th>vogais_unicas</th>\n",
       "    </tr>\n",
       "  </thead>\n",
       "  <tbody>\n",
       "    <tr>\n",
       "      <th>3628</th>\n",
       "      <td>nervo</td>\n",
       "      <td>2</td>\n",
       "      <td>2</td>\n",
       "    </tr>\n",
       "  </tbody>\n",
       "</table>\n",
       "</div>"
      ],
      "text/plain": [
       "     palavra  n_vogais  vogais_unicas\n",
       "3628   nervo         2              2"
      ]
     },
     "execution_count": 111,
     "metadata": {},
     "output_type": "execute_result"
    }
   ],
   "source": [
    "df.loc[df.palavra == 'nervo',:]"
   ]
  },
  {
   "cell_type": "markdown",
   "id": "e57b1cce-c97a-4d0a-baf4-d8597743f6d5",
   "metadata": {},
   "source": [
    "esse é o pensamento inicial, depois que começar o scraping no site e inserção poderemos saber quando acertarmos a posição da letra. \n",
    "\n",
    "Quando isso acontecer será necessário trocar essa função para adicionar só palavras com letra naquela posição!"
   ]
  },
  {
   "cell_type": "code",
   "execution_count": null,
   "id": "d06d5c81-a004-4f56-b605-425da49b8d8e",
   "metadata": {},
   "outputs": [],
   "source": []
  },
  {
   "cell_type": "markdown",
   "id": "ebd0f0fd-d727-4cdb-884d-5066872b9656",
   "metadata": {},
   "source": [
    "teoricamente aqui conseguimos resolver mais ou menos o termo, agora é pesquisar novas metricas e testar nos outros dias, melhorando o filtro e a seleção, também seria legal rankear as palavras mais comuns e ver se conseguimos gerar um peso de palavras\n",
    "\n",
    "- trabalhar em melhorar as funções e como elas vão conversar entre elas"
   ]
  },
  {
   "cell_type": "code",
   "execution_count": null,
   "id": "93c9d779-6dad-4e5a-a35a-1b4146739f3c",
   "metadata": {},
   "outputs": [],
   "source": []
  },
  {
   "cell_type": "code",
   "execution_count": null,
   "id": "bed93c68-50a1-4697-8f75-6a0ffa551167",
   "metadata": {},
   "outputs": [],
   "source": []
  },
  {
   "cell_type": "markdown",
   "id": "87564c1f-35e5-4071-969e-f525cf9a661f",
   "metadata": {},
   "source": [
    "-----------------------------\n",
    "\n",
    "Palavras excluidas do dicionario baixado da usp:\n",
    "- lermo\n",
    "- canaa\n",
    "- propo\n",
    "- coemo\n",
    "- doemo\n",
    "- jobim\n",
    "- suamo\n",
    "\n",
    "-----------------------------"
   ]
  },
  {
   "cell_type": "code",
   "execution_count": null,
   "id": "8b86e270-c5cd-4cb8-af85-f8e845e3a35e",
   "metadata": {},
   "outputs": [],
   "source": []
  },
  {
   "cell_type": "code",
   "execution_count": null,
   "id": "6e2eb7fe-ba8d-494e-8200-0dfbd38587d9",
   "metadata": {},
   "outputs": [],
   "source": []
  },
  {
   "cell_type": "markdown",
   "id": "c56e5132-6226-416d-b799-8cd6282690a1",
   "metadata": {},
   "source": [
    "# Organizando todas as funções!"
   ]
  },
  {
   "cell_type": "markdown",
   "id": "90599355-6ded-400f-a2cd-211071b1670e",
   "metadata": {},
   "source": [
    "- Carregar o DF\n",
    "- listar as palavras melhroes rankeadas para começar o jogo\n",
    "- iniciar o jogo\n",
    "- escolher uma palavra da lista de mais rankeadas\n",
    "- mandar a primeira palavra para o jogo\n",
    "- retornar dicionario de resultado da primeira palavra"
   ]
  },
  {
   "cell_type": "code",
   "execution_count": null,
   "id": "aae70994-f1e8-4aed-9495-052ad7fa178b",
   "metadata": {},
   "outputs": [],
   "source": []
  },
  {
   "cell_type": "markdown",
   "id": "a56624c9-c69d-473d-b12e-8a3c346152f0",
   "metadata": {},
   "source": [
    "## Core Functions - Analitics"
   ]
  },
  {
   "cell_type": "code",
   "execution_count": 1,
   "id": "13f12b3c-4503-4681-908f-81ca26e699cf",
   "metadata": {},
   "outputs": [],
   "source": [
    "import pandas as pd\n",
    "\n",
    "def carrega_dataframe_csv(caminho):\n",
    "    return pd.read_csv(caminho)"
   ]
  },
  {
   "cell_type": "code",
   "execution_count": 2,
   "id": "b821920d-d48e-4ebd-8757-0287af60ef13",
   "metadata": {},
   "outputs": [],
   "source": [
    "import random\n",
    "\n",
    "def sorteia_palavra(lista_palavra):\n",
    "    if len(lista_palavra) == 1:\n",
    "        return lista_palavra[0]\n",
    "    else:\n",
    "        return lista_palavra[random.randint(0,(len(lista_palavra)-1))]"
   ]
  },
  {
   "cell_type": "code",
   "execution_count": 3,
   "id": "91100f28-3d22-46f1-8e59-18b2da0c3677",
   "metadata": {},
   "outputs": [],
   "source": [
    "#recebe lista de letra e posicao correta\n",
    "#lista_exemplo = ['letra',posicao]\n",
    "\n",
    "def letra_na_posicao(lista_letra_correta, df):\n",
    "    \n",
    "    if len(lista_letra_correta) == 0:\n",
    "        return df\n",
    "    else:\n",
    "        for letra, posicao in lista_letra_correta:\n",
    "            if posicao == 0:\n",
    "                mask = df.letra_0 == letra\n",
    "                df = df.loc[mask,:]\n",
    "            elif posicao == 1:\n",
    "                mask = df.letra_1 == letra\n",
    "                df = df.loc[mask,:]\n",
    "            elif posicao == 2:\n",
    "                mask = df.letra_2 == letra\n",
    "                df = df.loc[mask,:]\n",
    "            elif posicao == 3:\n",
    "                mask = df.letra_3 == letra\n",
    "                df = df.loc[mask,:]\n",
    "            elif posicao == 4:\n",
    "                mask = df.letra_4 == letra\n",
    "                df = df.loc[mask,:]\n",
    "\n",
    "    return df\n"
   ]
  },
  {
   "cell_type": "code",
   "execution_count": 4,
   "id": "fcc4a317-bbd5-4fdb-8c64-9daecacf88f9",
   "metadata": {},
   "outputs": [],
   "source": [
    "#lista_de_letras_com_posicao = [['g',2]] --- exemplo\n",
    "#provavelmente será necessário criar uma função que descompacte o dicionario que retorna do site em uma lista com listas\n",
    "\n",
    "def palavras_com_letra_posicao_errada(lista_de_letras_com_posicao, df):   \n",
    "    lista = []\n",
    "    for indice1,indice2 in lista_de_letras_com_posicao:\n",
    "        lista.append(indice1)\n",
    "        \n",
    "        condicao = indice2\n",
    "        if condicao == 0:\n",
    "            mask = df.letra_1.isin(lista) | df.letra_2.isin(lista) | df.letra_3.isin(lista) | df.letra_4.isin(lista)\n",
    "            df = df.loc[mask,:]\n",
    "        elif condicao == 1:\n",
    "            mask = df.letra_0.isin(lista) | df.letra_2.isin(lista) | df.letra_3.isin(lista) | df.letra_4.isin(lista) \n",
    "            df = df.loc[mask,:]\n",
    "        elif condicao == 2:\n",
    "            mask = df.letra_0.isin(lista) | df.letra_1.isin(lista) | df.letra_3.isin(lista) | df.letra_4.isin(lista)\n",
    "            df = df.loc[mask,:]\n",
    "        elif condicao == 3:\n",
    "            mask = df.letra_0.isin(lista) | df.letra_1.isin(lista) | df.letra_2.isin(lista) | df.letra_4.isin(lista)\n",
    "            df = df.loc[mask,:]\n",
    "        elif condicao == 4:\n",
    "            mask = df.letra_0.isin(lista) | df.letra_1.isin(lista) | df.letra_2.isin(lista) | df.letra_3.isin(lista)\n",
    "            df = df.loc[mask,:]\n",
    "\n",
    "    return df"
   ]
  },
  {
   "cell_type": "code",
   "execution_count": 5,
   "id": "084b0616-3cd4-4ac0-9cc5-3d6971eb1433",
   "metadata": {},
   "outputs": [],
   "source": [
    "def letras_nao_aceitas(letras, df):\n",
    "    lista = []\n",
    "    \n",
    "    if len(letras) > 1:\n",
    "        for i in letras:\n",
    "            lista.append(i)\n",
    "        mask = ~df.letra_0.isin(lista) & ~df.letra_1.isin(lista) & ~df.letra_2.isin(lista) & ~df.letra_3.isin(lista) & ~df.letra_4.isin(lista)\n",
    "    else:\n",
    "        mask = (df.letra_0 != letras) & (df.letra_1 != letras) & (df.letra_2 != letras) & (df.letra_3 != letras) & (df.letra_4 != letras)\n",
    "\n",
    "    return df.loc[mask,:]\n",
    "\n"
   ]
  },
  {
   "cell_type": "code",
   "execution_count": null,
   "id": "af0862a3-fc8c-4e4f-ae9e-d6bacdc9a4de",
   "metadata": {},
   "outputs": [],
   "source": []
  },
  {
   "cell_type": "code",
   "execution_count": null,
   "id": "78a19f4a-8e59-4128-a2c9-5323d3764a45",
   "metadata": {},
   "outputs": [],
   "source": []
  },
  {
   "cell_type": "code",
   "execution_count": null,
   "id": "9c986075-5f7a-4d3c-991e-9eeb38e0f8b0",
   "metadata": {},
   "outputs": [],
   "source": []
  },
  {
   "cell_type": "markdown",
   "id": "e28f3dd7-79b1-42b9-8f70-d26ee827e618",
   "metadata": {},
   "source": [
    "## Scraping functions"
   ]
  },
  {
   "cell_type": "code",
   "execution_count": 6,
   "id": "8b6b9c30-e673-43c9-ae3f-46fd3088d7a8",
   "metadata": {},
   "outputs": [],
   "source": [
    "import pandas as pd\n",
    "import numpy as np\n",
    "import requests\n",
    "\n",
    "from selenium import webdriver\n",
    "from selenium.webdriver.common.by import By\n",
    "from selenium.webdriver.common.keys import Keys\n",
    "from selenium.webdriver.edge.service import Service\n",
    "#com a mudança pro selenium 4.0, algumas coisas mudaram ao inicializar, por exemplo o uso do Service\n",
    "\n",
    "\n",
    "from bs4 import BeautifulSoup\n",
    "from tqdm import tqdm"
   ]
  },
  {
   "cell_type": "code",
   "execution_count": null,
   "id": "a6262a14-a714-4c40-9f59-93ea19d2e704",
   "metadata": {},
   "outputs": [],
   "source": []
  },
  {
   "cell_type": "code",
   "execution_count": 7,
   "id": "7a868a92-e7e5-4a82-a4ef-ef602a4f9d2e",
   "metadata": {},
   "outputs": [],
   "source": [
    "#inicializand o site\n",
    "def inicializa_termo():\n",
    "    service = Service(executable_path = './edg_drv/msedgedriver.exe') #mudança do selenium 4.0\n",
    "    driver = webdriver.Edge(service=service)\n",
    "\n",
    "    urlpage = 'https://term.ooo/'\n",
    "    response = driver.get(urlpage)\n",
    "    driver.implicitly_wait(5)\n",
    "\n",
    "    x_path = '/html/body/wc-modal'\n",
    "    ajuda_sempre_aberta = driver.find_element('xpath',x_path)\n",
    "    ajuda_sempre_aberta.click()\n",
    "    driver.implicitly_wait(5)\n",
    "    return driver\n",
    "    \n",
    "    \n"
   ]
  },
  {
   "cell_type": "code",
   "execution_count": 97,
   "id": "3306c326-cb70-4b8e-a032-99ad9fc5d14c",
   "metadata": {},
   "outputs": [],
   "source": [
    "#envia palavra\n",
    "from time import sleep\n",
    "\n",
    "def envia_palavra(palavra_sorteada):\n",
    "    x_path_board = '/html/body'\n",
    "    board_inicial = driver.find_element('xpath',x_path_board)\n",
    "    for letra in palavra_sorteada:\n",
    "        board_inicial.send_keys(letra)\n",
    "        #board_inicial.implicitly_wait(3)#testar, se não funcionar voltar para -> driver.implicitly_wait(0.5)\n",
    "        sleep(1)\n",
    "\n",
    "    \n",
    "    board_inicial.send_keys(Keys.ENTER)\n",
    "    #board_inicial.implicitly_wait(5)\n",
    "    sleep(3)\n",
    "    #print('palavra-enviada')#apenas pra finalidades de teste, retirar depois\n",
    "    \n",
    "def apaga_palavra():\n",
    "    x_path_board = '/html/body'\n",
    "    board_inicial = driver.find_element('xpath',x_path_board)\n",
    "\n",
    "    for i in range(5):\n",
    "        board_inicial.send_keys(Keys.BACKSPACE)\n",
    "        sleep(0.5)\n",
    "    "
   ]
  },
  {
   "cell_type": "code",
   "execution_count": 43,
   "id": "520ba9e9-aca9-418a-bacf-354db921ad7b",
   "metadata": {},
   "outputs": [],
   "source": [
    "#retorna dicionario da tentiva de palavra enviada\n",
    "# elemento_do_board = '[id=\"board0\"]'\n",
    "\n",
    "# shadow = driver.find_element(By.CSS_SELECTOR, elemento_do_board).shadow_root\n",
    "\n",
    "#ainda pensando se vale a pena colocar como variavel global mesmo ou deixar dentro da função\n",
    "\n",
    "def retorna_dicionario_respostas(variavel): #variavel = numero da tentativa\n",
    "\n",
    "    elemento_do_board = '[id=\"board0\"]'\n",
    "\n",
    "    shadow = driver.find_element(By.CSS_SELECTOR, elemento_do_board).shadow_root\n",
    "    letra = ''\n",
    "    resposta = ''\n",
    "    \n",
    "    \n",
    "    lista_da_palavra = [] #inicializa a lista\n",
    "    elemento_primeira_linha_interno_para_shadow = f'[aria-label=\"palavra {variavel}\"]'\n",
    "    inner_shadow = shadow.find_element(By.CSS_SELECTOR, elemento_primeira_linha_interno_para_shadow).shadow_root\n",
    "\n",
    "\n",
    "    for variavel in range(5):\n",
    "        elemento_primeira_letra = f'[termo-pos=\"{str(variavel)}\"]'\n",
    "        elemento_html = inner_shadow.find_element(By.CSS_SELECTOR, elemento_primeira_letra)\n",
    "        resposta = elemento_html.get_attribute('class')\n",
    "        letra = remove_acentos(elemento_html.text.lower())\n",
    "        if resposta != 'letter empty':\n",
    "            lista_da_palavra.append([resposta, letra])\n",
    "\n",
    "\n",
    "    return dict(zip(range(len(lista_da_palavra)), lista_da_palavra))"
   ]
  },
  {
   "cell_type": "code",
   "execution_count": 31,
   "id": "86e5d53c-d2ec-428c-95b8-e175c1d9e68c",
   "metadata": {},
   "outputs": [
    {
     "data": {
      "text/plain": [
       "{0: ['letter wrong', 't'],\n",
       " 1: ['letter wrong', 'ó'],\n",
       " 2: ['letter wrong', 'r'],\n",
       " 3: ['letter place', 'i'],\n",
       " 4: ['letter right', 'o']}"
      ]
     },
     "execution_count": 31,
     "metadata": {},
     "output_type": "execute_result"
    }
   ],
   "source": [
    "variavel = 1\n",
    "elemento_do_board = '[id=\"board0\"]'\n",
    "\n",
    "shadow = driver.find_element(By.CSS_SELECTOR, elemento_do_board).shadow_root\n",
    "\n",
    "\n",
    "lista_da_palavra = [] #inicializa a lista\n",
    "elemento_primeira_linha_interno_para_shadow = f'[aria-label=\"palavra {variavel}\"]'\n",
    "inner_shadow = shadow.find_element(By.CSS_SELECTOR, elemento_primeira_linha_interno_para_shadow).shadow_root\n",
    "\n",
    "\n",
    "for variavel in range(5):\n",
    "    elemento_primeira_letra = f'[termo-pos=\"{str(variavel)}\"]'\n",
    "    elemento_html = inner_shadow.find_element(By.CSS_SELECTOR, elemento_primeira_letra)\n",
    "    resposta = elemento_html.get_attribute('class')\n",
    "    letra = elemento_html.text.lower()\n",
    "    if resposta != 'letter empty':\n",
    "        lista_da_palavra.append([resposta, letra])\n",
    "\n",
    "\n",
    "resultado_teste = dict(zip(range(len(lista_da_palavra)), lista_da_palavra))\n",
    "resultado_teste"
   ]
  },
  {
   "cell_type": "code",
   "execution_count": 89,
   "id": "89d62c35-87ec-4653-8a4d-bb7e056b9d57",
   "metadata": {},
   "outputs": [],
   "source": [
    "def descompacta_dicionario(dicionario, letras_aceitas):\n",
    "\n",
    "    letras_erradas = ''\n",
    "    letras_lugar_errado = []\n",
    "    letras_corretas = []\n",
    "\n",
    "    for item in dicionario:\n",
    "        letra = remove_acentos(dicionario[item][1]).lower()\n",
    "        condicao = letra in letras_aceitas\n",
    "        if dicionario[item][0] == 'letter wrong' and (condicao == False):\n",
    "            letras_erradas += str(dicionario[item][1])\n",
    "        elif dicionario[item][0] == 'letter place':\n",
    "            letras_aceitas += letra\n",
    "            letras_lugar_errado.append([dicionario[item][1], item])\n",
    "        elif dicionario[item][0] == 'letter right':\n",
    "            letras_aceitas += letra\n",
    "            letras_corretas.append([dicionario[item][1], item])\n",
    "            \n",
    "    return letras_erradas, letras_lugar_errado, letras_corretas, letras_aceitas"
   ]
  },
  {
   "cell_type": "code",
   "execution_count": 74,
   "id": "9803f91e-0713-4301-aa44-855cc9f42e91",
   "metadata": {},
   "outputs": [
    {
     "data": {
      "text/plain": [
       "True"
      ]
     },
     "execution_count": 74,
     "metadata": {},
     "output_type": "execute_result"
    }
   ],
   "source": [
    "letra = 'o'\n",
    "letras_aceitas = 'onz'\n",
    "\n",
    "letra in letras_aceitas"
   ]
  },
  {
   "cell_type": "code",
   "execution_count": null,
   "id": "2618ac51-49ab-47f5-98f5-a4b1d9976639",
   "metadata": {},
   "outputs": [],
   "source": [
    "def adiciona_letras_aceitas(letra):\n",
    "    string += letra\n",
    "    return string"
   ]
  },
  {
   "cell_type": "code",
   "execution_count": null,
   "id": "789cfe29-f27d-44ba-ab14-71d6a5138a20",
   "metadata": {},
   "outputs": [],
   "source": [
    "def retorna_letras_aceitas():\n",
    "    return "
   ]
  },
  {
   "cell_type": "code",
   "execution_count": 21,
   "id": "10d548b4-162c-43cf-99bb-842d2fdb709c",
   "metadata": {
    "jupyter": {
     "source_hidden": true
    },
    "tags": []
   },
   "outputs": [],
   "source": [
    "#função que vai dizer se ta funcionando ou não\n",
    "def get_notificacao(palavra_sorteada, df, file, now, session_id, dicionario,tentativa):\n",
    "#def get_notificacao(palavra_sorteada, df):\n",
    "    vencedor = 'wc-notify'\n",
    "    notificacao = driver.find_element(By.CSS_SELECTOR, vencedor)\n",
    "    notificacao = notificacao.text\n",
    "    #print(notificacao)\n",
    "    terminou = True\n",
    "    if notificacao == '':\n",
    "        notificacao = 'palavra aceita'\n",
    "        terminou = True\n",
    "        \n",
    "        \n",
    "    elif notificacao == 'essa palavra não é aceita':\n",
    "        #file.write(f'{-1},{palavra_sorteada},{notificacao},{data},{session_id},{variavel_randomica},{dicionario}\\n')\n",
    "        #nesse ponto precisei meio que criar ela recursivamente, pra ir filtrando as palavras que não poderiamos colocar!\n",
    "        while terminou == True:\n",
    "            file.write(f'{-1},{palavra_sorteada},{notificacao},{data},{session_id},{variavel_randomica},{dicionario}\\n')\n",
    "            #aqui vai ter uma mini função, que talvez eu encapsule em outro lugar\n",
    "            df = df[df.palavra != palavra_sorteada]\n",
    "            palavra_sorteada = sorteia_palavra(df.palavra.values.tolist())\n",
    "\n",
    "            x_path_board = '/html/body'\n",
    "            board_inicial = driver.find_element('xpath',x_path_board)\n",
    "\n",
    "            for i in range(5):\n",
    "                board_inicial.send_keys(Keys.BACKSPACE)\n",
    "                sleep(1)\n",
    "\n",
    "            envia_palavra(palavra_sorteada)\n",
    "            dicionario = retorna_dicionario_respostas(tentativa)\n",
    "            letras_erradas, letras_lugar_errado, letras_corretas = retorna_resultado_tentativa_palavra(dicionario)\n",
    "\n",
    "            df = palavras_com_letra_posicao_errada(letras_lugar_errado, df)\n",
    "            df = letra_na_posicao(letras_corretas, df)\n",
    "            df = letras_nao_aceitas(letras_erradas, df)\n",
    "            \n",
    "            terminou, df, notificacao, palavra_sorteada = get_notificacao(palavra_sorteada, df, file, now, session_id,dicionario,tentativa)\n",
    "            \n",
    "            \n",
    "        \n",
    "        \n",
    "    else:\n",
    "        terminou = False\n",
    "        \n",
    "    return terminou, df, notificacao, palavra_sorteada"
   ]
  },
  {
   "cell_type": "markdown",
   "id": "f3d8f9fb-30eb-4528-84b4-0838bc05e3e3",
   "metadata": {},
   "source": [
    "FAZENDO UMA SEGUNDA VERSÃO DA FUNCAO ACIMA"
   ]
  },
  {
   "cell_type": "code",
   "execution_count": 96,
   "id": "ebbfb4c0-d076-4e07-b86f-526d3b606187",
   "metadata": {},
   "outputs": [],
   "source": [
    "#função que vai dizer se ta funcionando ou não\n",
    "def get_notificacao(palavra_sorteada, df, file, now, session_id, dicionario,tentativa, letras_aceitas):\n",
    "#def get_notificacao(palavra_sorteada, df):\n",
    "    vencedor = 'wc-notify'\n",
    "    notificacao = driver.find_element(By.CSS_SELECTOR, vencedor)\n",
    "    notificacao = notificacao.text\n",
    "    #print(notificacao)\n",
    "    terminou = True\n",
    "    if notificacao == '':\n",
    "        notificacao = 'palavra aceita'\n",
    "        terminou = True\n",
    "        \n",
    "        \n",
    "    elif notificacao == 'essa palavra não é aceita':\n",
    "        #file.write(f'{-1},{palavra_sorteada},{notificacao},{data},{session_id},{variavel_randomica},{dicionario}\\n')\n",
    "        #nesse ponto precisei meio que criar ela recursivamente, pra ir filtrando as palavras que não poderiamos colocar!\n",
    "        while terminou == True:\n",
    "            \n",
    "            \n",
    "            #apagando palavra\n",
    "            apaga_palavra()\n",
    "            \n",
    "            \n",
    "            file.write(f'{-1},{palavra_sorteada},{notificacao},{data},{session_id},{variavel_randomica},{dicionario}\\n')\n",
    "            #aqui vai ter uma mini função, que talvez eu encapsule em outro lugar\n",
    "            df = df[df.palavra != palavra_sorteada].reset_index(drop=True)\n",
    "            palavra_sorteada = sorteia_palavra(df.palavra.values.tolist())\n",
    "            \n",
    "            #palavra_sorteada = sorteia_palavra(df.palavra)\n",
    "\n",
    "            envia_palavra(palavra_sorteada)\n",
    "\n",
    "            #pegar informações da palavra enviada\n",
    "            dicionario = retorna_dicionario_respostas(tentativa)\n",
    "            print('-------- dentro do get_noficacao ------')\n",
    "            print('palavra_sorteada: ',palavra_sorteada)\n",
    "            print()\n",
    "            print('dicionario: ', dicionario)\n",
    "            print()\n",
    "            print('letras_aceitas: ',letras_aceitas)\n",
    "            print('tentativa: ', tentativa)\n",
    "            print('-------- fim do get_noficacao ------')\n",
    "            #df.to_csv('debugando.csv')\n",
    "            df, letras_aceitas = filtra_df(dicionario, df, letras_aceitas)\n",
    "            #df.to_csv('debugando.csv')\n",
    "            \n",
    "            #terminou, df, notificacao, palavra_sorteada = get_notificacao(palavra_sorteada, df, file, now, session_id,dicionario,tentativa, letras_aceitas)\n",
    "            terminou, df, notificacao, palavra_sorteada, letras_aceitas, tentativa = get_notificacao(palavra_sorteada, df, file, now, session_id, dicionario,tentativa, letras_aceitas)\n",
    "            tentativa += 1 # foi o jeito de corrigir o erro, não sei como só isso resolveu, verificar deep dps\n",
    "            \n",
    "            \n",
    "        \n",
    "        \n",
    "    else:\n",
    "        terminou = False\n",
    "        \n",
    "    return terminou, df, notificacao, palavra_sorteada, letras_aceitas, tentativa"
   ]
  },
  {
   "cell_type": "code",
   "execution_count": 13,
   "id": "e8804b7a-2f01-4c43-99c8-78073cd19da7",
   "metadata": {},
   "outputs": [],
   "source": [
    "def first_attempt(df):\n",
    "    melhores_palavras_para_vogais = df[df.vogais_unicas == 4]\n",
    "    return sorteia_palavra(melhores_palavras_para_vogais.palavra.values.tolist())"
   ]
  },
  {
   "cell_type": "code",
   "execution_count": 87,
   "id": "4cf40bec-9395-4ab3-b797-76e9412a007b",
   "metadata": {},
   "outputs": [],
   "source": [
    "def filtra_df(dicionario, df, letras_aceitas):\n",
    "#         envia_palavra(palavra_sorteada)\n",
    "\n",
    "#         #pegar informações da palavra enviada\n",
    "#         dicionario = retorna_dicionario_respostas(tentativa)\n",
    "\n",
    "        #retornar resultado das letras\n",
    "        letras_erradas, letras_lugar_errado, letras_corretas, letras_aceitas = descompacta_dicionario(dicionario, letras_aceitas)\n",
    "\n",
    "        df = palavras_com_letra_posicao_errada(letras_lugar_errado, df)\n",
    "        df = letra_na_posicao(letras_corretas, df)\n",
    "        df = letras_nao_aceitas(letras_erradas, df)\n",
    "        \n",
    "        return df, letras_aceitas"
   ]
  },
  {
   "cell_type": "markdown",
   "id": "6e99c6f2-df07-46c5-97ec-bc5f0a8eb1b6",
   "metadata": {},
   "source": [
    "# teste de inicialização e resolução"
   ]
  },
  {
   "cell_type": "code",
   "execution_count": 152,
   "id": "de75b216-4a9d-45b7-991a-1e3c81ebfa6e",
   "metadata": {
    "jupyter": {
     "source_hidden": true
    },
    "tags": []
   },
   "outputs": [
    {
     "name": "stdout",
     "output_type": "stream",
     "text": [
      "ureia\n",
      "tentativa: 0 - palavra: ureia - resultado: \n",
      "tentativa: 1 - palavra: zonzo - resultado: \n",
      "tentativa: 2 - palavra: tolho - resultado: \n",
      "tentativa: 3 - palavra: pombo - resultado: Fenomenal\n"
     ]
    }
   ],
   "source": [
    "caminho = 'br-utf8.csv'\n",
    "df = carrega_dataframe_csv(caminho)\n",
    "\n",
    "driver = inicializa_termo()\n",
    "\n",
    "\n",
    "terminou = True\n",
    "tentativa = 0\n",
    "\n",
    "while terminou == True:\n",
    "    driver.implicitly_wait(5)\n",
    "    #for tentativa in range(5):\n",
    "    #print(tentativa)\n",
    "    if tentativa == 0:\n",
    "        #print('first')\n",
    "        #pegando a primeira palavra\n",
    "        palavra_sorteada = first_attempt(df)\n",
    "        #print(palavra_sorteada)\n",
    "\n",
    "        #enviando palavra para o site\n",
    "        envia_palavra(palavra_sorteada)\n",
    "\n",
    "        #pegar informações da palavra enviada\n",
    "        dicionario = retorna_dicionario_respostas(tentativa)\n",
    "\n",
    "        #retornar resultado das letras\n",
    "        letras_erradas, letras_lugar_errado, letras_corretas = retorna_resultado_tentativa_palavra(dicionario)\n",
    "\n",
    "        df = palavras_com_letra_posicao_errada(letras_lugar_errado, df)\n",
    "        df = letra_na_posicao(letras_corretas, df)\n",
    "        df = letras_nao_aceitas(letras_erradas, df)\n",
    "        #driver.implicitly_wait(10)\n",
    "        sleep(2)\n",
    "    else:\n",
    "\n",
    "        palavra_sorteada = sorteia_palavra(df.palavra.values.tolist())\n",
    "        #print(palavra_sorteada)\n",
    "\n",
    "        #enviando palavra para o site\n",
    "        envia_palavra(palavra_sorteada)\n",
    "\n",
    "        #pegar informações da palavra enviada\n",
    "        dicionario = retorna_dicionario_respostas(tentativa)\n",
    "\n",
    "        #retornar resultado das letras\n",
    "        letras_erradas, letras_lugar_errado, letras_corretas = retorna_resultado_tentativa_palavra(dicionario)\n",
    "\n",
    "        df = palavras_com_letra_posicao_errada(letras_lugar_errado, df)\n",
    "        df = letra_na_posicao(letras_corretas, df)\n",
    "        df = letras_nao_aceitas(letras_erradas, df)\n",
    "        #driver.implicitly_wait(30)\n",
    "        sleep(2)\n",
    "\n",
    "    terminou, df, notificacao = get_notificacao(palavra_sorteada, df)\n",
    "    print(f'tentativa: {tentativa} - palavra: {palavra_sorteada} - resultado: {notificacao}')\n",
    "    tentativa += 1"
   ]
  },
  {
   "cell_type": "code",
   "execution_count": 155,
   "id": "f669e55d-123f-45fa-82d0-3b806c323ae2",
   "metadata": {
    "jupyter": {
     "source_hidden": true
    },
    "tags": []
   },
   "outputs": [
    {
     "name": "stdout",
     "output_type": "stream",
     "text": [
      "tentativa: 0 - palavra: vaiou - resultado: palavra aceita\n",
      "tentativa: 1 - palavra: bolos - resultado: palavra aceita\n",
      "tentativa: 2 - palavra: rombo - resultado: palavra aceita\n",
      "tentativa: 3 - palavra: pombo - resultado: Fenomenal\n"
     ]
    }
   ],
   "source": [
    "caminho = 'br-utf8.csv'\n",
    "df = carrega_dataframe_csv(caminho)\n",
    "\n",
    "driver = inicializa_termo()\n",
    "\n",
    "\n",
    "terminou = True\n",
    "tentativa = 0\n",
    "\n",
    "while terminou == True:\n",
    "    #driver.implicitly_wait(5)\n",
    "    #for tentativa in range(5):\n",
    "    #print(tentativa)\n",
    "    if tentativa == 0:\n",
    "        #print('first')\n",
    "        #pegando a primeira palavra\n",
    "        palavra_sorteada = first_attempt(df)\n",
    "        #print(palavra_sorteada)\n",
    "\n",
    "        #enviando palavra para o site\n",
    "        envia_palavra(palavra_sorteada)\n",
    "\n",
    "        #pegar informações da palavra enviada\n",
    "        dicionario = retorna_dicionario_respostas(tentativa)\n",
    "\n",
    "        #retornar resultado das letras\n",
    "        letras_erradas, letras_lugar_errado, letras_corretas = retorna_resultado_tentativa_palavra(dicionario)\n",
    "\n",
    "        df = palavras_com_letra_posicao_errada(letras_lugar_errado, df)\n",
    "        df = letra_na_posicao(letras_corretas, df)\n",
    "        df = letras_nao_aceitas(letras_erradas, df)\n",
    "        #driver.implicitly_wait(10)\n",
    "        sleep(2)\n",
    "    else:\n",
    "\n",
    "        palavra_sorteada = sorteia_palavra(df.palavra.values.tolist())\n",
    "        #print(palavra_sorteada)\n",
    "\n",
    "        #enviando palavra para o site\n",
    "        envia_palavra(palavra_sorteada)\n",
    "\n",
    "        #pegar informações da palavra enviada\n",
    "        dicionario = retorna_dicionario_respostas(tentativa)\n",
    "\n",
    "        #retornar resultado das letras\n",
    "        letras_erradas, letras_lugar_errado, letras_corretas = retorna_resultado_tentativa_palavra(dicionario)\n",
    "\n",
    "        df = palavras_com_letra_posicao_errada(letras_lugar_errado, df)\n",
    "        df = letra_na_posicao(letras_corretas, df)\n",
    "        df = letras_nao_aceitas(letras_erradas, df)\n",
    "        #driver.implicitly_wait(30)\n",
    "        sleep(2)\n",
    "\n",
    "    terminou, df, notificacao = get_notificacao(palavra_sorteada, df)\n",
    "    print(f'tentativa: {tentativa} - palavra: {palavra_sorteada} - resultado: {notificacao}')\n",
    "    tentativa += 1"
   ]
  },
  {
   "cell_type": "code",
   "execution_count": 14,
   "id": "fe1c767b-b6fe-4183-bd32-3fdef2ca0f5a",
   "metadata": {
    "collapsed": true,
    "jupyter": {
     "outputs_hidden": true,
     "source_hidden": true
    },
    "tags": []
   },
   "outputs": [
    {
     "ename": "TypeError",
     "evalue": "get_notificacao() missing 1 required positional argument: 'dicionario'",
     "output_type": "error",
     "traceback": [
      "\u001b[1;31m---------------------------------------------------------------------------\u001b[0m",
      "\u001b[1;31mTypeError\u001b[0m                                 Traceback (most recent call last)",
      "\u001b[1;32m<ipython-input-14-79bbb32c7058>\u001b[0m in \u001b[0;36m<module>\u001b[1;34m\u001b[0m\n\u001b[0;32m     64\u001b[0m \u001b[1;33m\u001b[0m\u001b[0m\n\u001b[0;32m     65\u001b[0m \u001b[1;33m\u001b[0m\u001b[0m\n\u001b[1;32m---> 66\u001b[1;33m     \u001b[0mterminou\u001b[0m\u001b[1;33m,\u001b[0m \u001b[0mdf\u001b[0m\u001b[1;33m,\u001b[0m \u001b[0mnotificacao\u001b[0m\u001b[1;33m,\u001b[0m \u001b[0mpalavra_sorteada\u001b[0m \u001b[1;33m=\u001b[0m \u001b[0mget_notificacao\u001b[0m\u001b[1;33m(\u001b[0m\u001b[0mpalavra_sorteada\u001b[0m\u001b[1;33m,\u001b[0m \u001b[0mdf\u001b[0m\u001b[1;33m,\u001b[0m \u001b[0mfile\u001b[0m\u001b[1;33m,\u001b[0m \u001b[0mnow\u001b[0m\u001b[1;33m,\u001b[0m \u001b[0msession_id\u001b[0m\u001b[1;33m)\u001b[0m\u001b[1;33m\u001b[0m\u001b[1;33m\u001b[0m\u001b[0m\n\u001b[0m\u001b[0;32m     67\u001b[0m \u001b[1;33m\u001b[0m\u001b[0m\n\u001b[0;32m     68\u001b[0m     \u001b[1;31m#file.write('tentativa,palavra,resultado,data,session_id\\n')\u001b[0m\u001b[1;33m\u001b[0m\u001b[1;33m\u001b[0m\u001b[1;33m\u001b[0m\u001b[0m\n",
      "\u001b[1;31mTypeError\u001b[0m: get_notificacao() missing 1 required positional argument: 'dicionario'"
     ]
    }
   ],
   "source": [
    "from datetime import datetime\n",
    "\n",
    "file = open('resultados.txt', 'a')\n",
    "\n",
    "caminho = 'br-utf8.csv'\n",
    "\n",
    "df = carrega_dataframe_csv(caminho)\n",
    "\n",
    "driver = inicializa_termo()\n",
    "\n",
    "\n",
    "terminou = True\n",
    "tentativa = 0\n",
    "\n",
    "now = datetime.now()\n",
    "data = now.strftime(\"%d/%m/%Y\")\n",
    "#hora = now.strftime(\"%H:%M\")\n",
    "session_id = driver.session_id\n",
    "\n",
    "\n",
    "while terminou == True:\n",
    "    #driver.implicitly_wait(5)\n",
    "    #for tentativa in range(5):\n",
    "    #print(tentativa)\n",
    "    if tentativa == 0:\n",
    "        #print('first')\n",
    "        #pegando a primeira palavra\n",
    "        palavra_sorteada = first_attempt(df)\n",
    "        #print(palavra_sorteada)\n",
    "\n",
    "        #enviando palavra para o site\n",
    "        envia_palavra(palavra_sorteada)\n",
    "\n",
    "        #pegar informações da palavra enviada\n",
    "        dicionario = retorna_dicionario_respostas(tentativa)\n",
    "\n",
    "        #retornar resultado das letras\n",
    "        letras_erradas, letras_lugar_errado, letras_corretas = retorna_resultado_tentativa_palavra(dicionario)\n",
    "\n",
    "        df = palavras_com_letra_posicao_errada(letras_lugar_errado, df)\n",
    "        df = letra_na_posicao(letras_corretas, df)\n",
    "        df = letras_nao_aceitas(letras_erradas, df)\n",
    "        #driver.implicitly_wait(10)\n",
    "        sleep(2)\n",
    "    else:\n",
    "\n",
    "        palavra_sorteada = sorteia_palavra(df.palavra.values.tolist())\n",
    "        #print(palavra_sorteada)\n",
    "\n",
    "        #enviando palavra para o site\n",
    "        envia_palavra(palavra_sorteada)\n",
    "\n",
    "        #pegar informações da palavra enviada\n",
    "        dicionario = retorna_dicionario_respostas(tentativa)\n",
    "\n",
    "        #retornar resultado das letras\n",
    "        letras_erradas, letras_lugar_errado, letras_corretas = retorna_resultado_tentativa_palavra(dicionario)\n",
    "\n",
    "        df = palavras_com_letra_posicao_errada(letras_lugar_errado, df)\n",
    "        df = letra_na_posicao(letras_corretas, df)\n",
    "        df = letras_nao_aceitas(letras_erradas, df)\n",
    "        #driver.implicitly_wait(30)\n",
    "        sleep(2)\n",
    "\n",
    "            \n",
    "    terminou, df, notificacao, palavra_sorteada = get_notificacao(palavra_sorteada, df, file, now, session_id)\n",
    "    \n",
    "    #file.write('tentativa,palavra,resultado,data,session_id\\n')\n",
    "    file.write(f'{tentativa},{palavra_sorteada},{notificacao},{data},{session_id}\\n')\n",
    "    tentativa += 1\n",
    "\n",
    "file.close()"
   ]
  },
  {
   "cell_type": "markdown",
   "id": "45cdf877-8a4c-42e6-b18b-988dc8384503",
   "metadata": {},
   "source": [
    "# BLOCO DE CODIGO FINAL QUE EXECUTA E ESCREVE O QUE FOI FEITO"
   ]
  },
  {
   "cell_type": "code",
   "execution_count": 16,
   "id": "aa69c1f3-1c35-4c81-89ad-073f30a52189",
   "metadata": {
    "jupyter": {
     "source_hidden": true
    },
    "tags": []
   },
   "outputs": [
    {
     "name": "stdout",
     "output_type": "stream",
     "text": [
      "416\n"
     ]
    },
    {
     "ename": "TypeError",
     "evalue": "get_notificacao() missing 1 required positional argument: 'dicionario'",
     "output_type": "error",
     "traceback": [
      "\u001b[1;31m---------------------------------------------------------------------------\u001b[0m",
      "\u001b[1;31mTypeError\u001b[0m                                 Traceback (most recent call last)",
      "\u001b[1;32m<ipython-input-16-34429afbae6e>\u001b[0m in \u001b[0;36m<module>\u001b[1;34m\u001b[0m\n\u001b[0;32m     67\u001b[0m \u001b[1;33m\u001b[0m\u001b[0m\n\u001b[0;32m     68\u001b[0m \u001b[1;33m\u001b[0m\u001b[0m\n\u001b[1;32m---> 69\u001b[1;33m     \u001b[0mterminou\u001b[0m\u001b[1;33m,\u001b[0m \u001b[0mdf\u001b[0m\u001b[1;33m,\u001b[0m \u001b[0mnotificacao\u001b[0m\u001b[1;33m,\u001b[0m \u001b[0mpalavra_sorteada\u001b[0m \u001b[1;33m=\u001b[0m \u001b[0mget_notificacao\u001b[0m\u001b[1;33m(\u001b[0m\u001b[0mpalavra_sorteada\u001b[0m\u001b[1;33m,\u001b[0m \u001b[0mdf\u001b[0m\u001b[1;33m,\u001b[0m \u001b[0mfile\u001b[0m\u001b[1;33m,\u001b[0m \u001b[0mnow\u001b[0m\u001b[1;33m,\u001b[0m \u001b[0msession_id\u001b[0m\u001b[1;33m,\u001b[0m \u001b[0mdicionario\u001b[0m\u001b[1;33m)\u001b[0m\u001b[1;33m\u001b[0m\u001b[1;33m\u001b[0m\u001b[0m\n\u001b[0m\u001b[0;32m     70\u001b[0m \u001b[1;33m\u001b[0m\u001b[0m\n\u001b[0;32m     71\u001b[0m     \u001b[1;31m#file.write('tentativa,palavra,resultado,data,session_id\\n')\u001b[0m\u001b[1;33m\u001b[0m\u001b[1;33m\u001b[0m\u001b[1;33m\u001b[0m\u001b[0m\n",
      "\u001b[1;32m<ipython-input-12-54051638df21>\u001b[0m in \u001b[0;36mget_notificacao\u001b[1;34m(palavra_sorteada, df, file, now, session_id, dicionario)\u001b[0m\n\u001b[0;32m     35\u001b[0m             \u001b[0mdf\u001b[0m \u001b[1;33m=\u001b[0m \u001b[0mletras_nao_aceitas\u001b[0m\u001b[1;33m(\u001b[0m\u001b[0mletras_erradas\u001b[0m\u001b[1;33m,\u001b[0m \u001b[0mdf\u001b[0m\u001b[1;33m)\u001b[0m\u001b[1;33m\u001b[0m\u001b[1;33m\u001b[0m\u001b[0m\n\u001b[0;32m     36\u001b[0m \u001b[1;33m\u001b[0m\u001b[0m\n\u001b[1;32m---> 37\u001b[1;33m             \u001b[0mterminou\u001b[0m\u001b[1;33m,\u001b[0m \u001b[0mdf\u001b[0m\u001b[1;33m,\u001b[0m \u001b[0mnotificacao\u001b[0m\u001b[1;33m,\u001b[0m \u001b[0mpalavra_sorteada\u001b[0m \u001b[1;33m=\u001b[0m \u001b[0mget_notificacao\u001b[0m\u001b[1;33m(\u001b[0m\u001b[0mpalavra_sorteada\u001b[0m\u001b[1;33m,\u001b[0m \u001b[0mdf\u001b[0m\u001b[1;33m,\u001b[0m \u001b[0mfile\u001b[0m\u001b[1;33m,\u001b[0m \u001b[0mnow\u001b[0m\u001b[1;33m,\u001b[0m \u001b[0msession_id\u001b[0m\u001b[1;33m)\u001b[0m\u001b[1;33m\u001b[0m\u001b[1;33m\u001b[0m\u001b[0m\n\u001b[0m\u001b[0;32m     38\u001b[0m \u001b[1;33m\u001b[0m\u001b[0m\n\u001b[0;32m     39\u001b[0m \u001b[1;33m\u001b[0m\u001b[0m\n",
      "\u001b[1;31mTypeError\u001b[0m: get_notificacao() missing 1 required positional argument: 'dicionario'"
     ]
    }
   ],
   "source": [
    "file = open('resultados.txt', 'a')\n",
    "\n",
    "caminho = 'br-utf8.csv'\n",
    "\n",
    "df = carrega_dataframe_csv(caminho)\n",
    "\n",
    "driver = inicializa_termo()\n",
    "\n",
    "\n",
    "terminou = True\n",
    "tentativa = 0\n",
    "\n",
    "now = datetime.now()\n",
    "data = now.strftime(\"%d/%m/%Y\")\n",
    "#hora = now.strftime(\"%H:%M\")\n",
    "session_id = driver.session_id\n",
    "\n",
    "#só verificando o seed que foi gerado pra caso precisar replicar\n",
    "variavel_randomica = random.randint(0,1000)\n",
    "a = random.seed(variavel_randomica)\n",
    "print(variavel_randomica)\n",
    "\n",
    "\n",
    "while terminou == True:\n",
    "    #driver.implicitly_wait(5)\n",
    "    #for tentativa in range(5):\n",
    "    #print(tentativa)\n",
    "    if tentativa == 0:\n",
    "        #print('first')\n",
    "        #pegando a primeira palavra\n",
    "        palavra_sorteada = first_attempt(df)\n",
    "        #print(palavra_sorteada)\n",
    "\n",
    "        #enviando palavra para o site\n",
    "        envia_palavra(palavra_sorteada)\n",
    "\n",
    "        #pegar informações da palavra enviada\n",
    "        dicionario = retorna_dicionario_respostas(tentativa)\n",
    "\n",
    "        #retornar resultado das letras\n",
    "        letras_erradas, letras_lugar_errado, letras_corretas = retorna_resultado_tentativa_palavra(dicionario)\n",
    "\n",
    "        df = palavras_com_letra_posicao_errada(letras_lugar_errado, df)\n",
    "        df = letra_na_posicao(letras_corretas, df)\n",
    "        df = letras_nao_aceitas(letras_erradas, df)\n",
    "        #driver.implicitly_wait(10)\n",
    "        sleep(2)\n",
    "    else:\n",
    "\n",
    "        palavra_sorteada = sorteia_palavra(df.palavra.values.tolist())\n",
    "        #print(palavra_sorteada)\n",
    "\n",
    "        #enviando palavra para o site\n",
    "        envia_palavra(palavra_sorteada)\n",
    "\n",
    "        #pegar informações da palavra enviada\n",
    "        dicionario = retorna_dicionario_respostas(tentativa)\n",
    "\n",
    "        #retornar resultado das letras\n",
    "        letras_erradas, letras_lugar_errado, letras_corretas = descompacta_dicionario(dicionario)\n",
    "\n",
    "        df = palavras_com_letra_posicao_errada(letras_lugar_errado, df)\n",
    "        df = letra_na_posicao(letras_corretas, df)\n",
    "        df = letras_nao_aceitas(letras_erradas, df)\n",
    "        #driver.implicitly_wait(30)\n",
    "        sleep(2)\n",
    "\n",
    "            \n",
    "    terminou, df, notificacao, palavra_sorteada = get_notificacao(palavra_sorteada, df, file, now, session_id, dicionario)\n",
    "    \n",
    "    #file.write('tentativa,palavra,resultado,data,session_id\\n')\n",
    "    file.write(f'{tentativa},{palavra_sorteada},{notificacao},{data},{session_id},{variavel_randomica},{dicionario}\\n')\n",
    "    tentativa += 1\n",
    "\n",
    "file.close()"
   ]
  },
  {
   "cell_type": "code",
   "execution_count": null,
   "id": "ca99dd4f-510d-4588-8ec3-b3d323a674bb",
   "metadata": {},
   "outputs": [],
   "source": []
  },
  {
   "cell_type": "code",
   "execution_count": null,
   "id": "263414cb-2957-40c7-ab9c-eb3c405dba23",
   "metadata": {},
   "outputs": [],
   "source": []
  },
  {
   "cell_type": "code",
   "execution_count": null,
   "id": "2ce83434-60ff-4ebb-8a8e-74cc2e14a5e0",
   "metadata": {},
   "outputs": [],
   "source": []
  },
  {
   "cell_type": "code",
   "execution_count": null,
   "id": "3d478d6a-d379-4853-858c-d1bca9bc5c51",
   "metadata": {},
   "outputs": [],
   "source": []
  },
  {
   "cell_type": "code",
   "execution_count": null,
   "id": "f14c85d0-ca45-4d3f-a143-90229277f680",
   "metadata": {},
   "outputs": [],
   "source": [
    "dicionario_teste = {0: ['letter wrong', 'm'], 1: ['letter wrong', 'o'], 2: ['letter wrong', 'g'], 3: ['letter place', 'n'], 4: ['letter right', 'o']}\n",
    "\n",
    "df = filtra_df(dicionario_teste, df)"
   ]
  },
  {
   "cell_type": "code",
   "execution_count": 98,
   "id": "414844b6-01e3-4a48-a0d9-2ca4ae2851b6",
   "metadata": {
    "scrolled": true,
    "tags": []
   },
   "outputs": [
    {
     "name": "stdout",
     "output_type": "stream",
     "text": [
      "416\n",
      "tentativa:  0\n",
      "palavra sorteada:  apeou\n",
      "letras aceitas:  o\n",
      "-------- dentro do get_noficacao ------\n",
      "palavra_sorteada:  torio\n",
      "\n",
      "dicionario:  {0: ['letter wrong', 't'], 1: ['letter wrong', 'o'], 2: ['letter wrong', 'r'], 3: ['letter place', 'i'], 4: ['letter right', 'o']}\n",
      "\n",
      "letras_aceitas:  o\n",
      "tentativa:  1\n",
      "-------- fim do get_noficacao ------\n",
      "-------- dentro do get_noficacao ------\n",
      "palavra_sorteada:  linho\n",
      "\n",
      "dicionario:  {0: ['letter wrong', 'l'], 1: ['letter right', 'i'], 2: ['letter right', 'n'], 3: ['letter wrong', 'h'], 4: ['letter right', 'o']}\n",
      "\n",
      "letras_aceitas:  oio\n",
      "tentativa:  2\n",
      "-------- fim do get_noficacao ------\n",
      "-------- dentro do get_noficacao ------\n",
      "palavra_sorteada:  vindo\n",
      "\n",
      "dicionario:  {0: ['letter wrong', 'v'], 1: ['letter right', 'i'], 2: ['letter right', 'n'], 3: ['letter wrong', 'd'], 4: ['letter right', 'o']}\n",
      "\n",
      "letras_aceitas:  oioino\n",
      "tentativa:  3\n",
      "-------- fim do get_noficacao ------\n",
      "-------- dentro do get_noficacao ------\n",
      "palavra_sorteada:  finjo\n",
      "\n",
      "dicionario:  {0: ['letter wrong', 'f'], 1: ['letter right', 'i'], 2: ['letter right', 'n'], 3: ['letter wrong', 'j'], 4: ['letter right', 'o']}\n",
      "\n",
      "letras_aceitas:  oioinoino\n",
      "tentativa:  4\n",
      "-------- fim do get_noficacao ------\n",
      "-------- dentro do get_noficacao ------\n",
      "palavra_sorteada:  zinco\n",
      "\n",
      "dicionario:  {0: ['letter right done', 'z'], 1: ['letter right done', 'i'], 2: ['letter right done', 'n'], 3: ['letter right done', 'c'], 4: ['letter right done', 'o']}\n",
      "\n",
      "letras_aceitas:  oioinoinoino\n",
      "tentativa:  5\n",
      "-------- fim do get_noficacao ------\n",
      "tentativa:  6\n",
      "palavra sorteada:  zinco\n",
      "letras aceitas:  oioinoinoino\n"
     ]
    }
   ],
   "source": [
    "letras_aceitas = ''\n",
    "\n",
    "file = open('resultados.txt', 'a')\n",
    "\n",
    "caminho = 'br-utf8.csv'\n",
    "\n",
    "df = carrega_dataframe_csv(caminho)\n",
    "\n",
    "driver = inicializa_termo()\n",
    "\n",
    "\n",
    "terminou = True\n",
    "tentativa = 0\n",
    "\n",
    "now = datetime.now()\n",
    "data = now.strftime(\"%d/%m/%Y\")\n",
    "#hora = now.strftime(\"%H:%M\")\n",
    "session_id = driver.session_id\n",
    "\n",
    "#só verificando o seed que foi gerado pra caso precisar replicar\n",
    "variavel_randomica = 416\n",
    "a = random.seed(variavel_randomica)\n",
    "print(variavel_randomica)\n",
    "\n",
    "\n",
    "while terminou == True:\n",
    "    #driver.implicitly_wait(5)\n",
    "    #for tentativa in range(5):\n",
    "    #print(tentativa)\n",
    "    if tentativa == 0:\n",
    "        #print('first')\n",
    "        #pegando a primeira palavra\n",
    "        palavra_sorteada = first_attempt(df)\n",
    "        \n",
    "        envia_palavra(palavra_sorteada)\n",
    "\n",
    "        #pegar informações da palavra enviada\n",
    "        dicionario = retorna_dicionario_respostas(tentativa)\n",
    "        \n",
    "        #print(palavra_sorteada)\n",
    "        df, letras_aceitas = filtra_df(dicionario, df, letras_aceitas)\n",
    "        \n",
    "        #driver.implicitly_wait(10)\n",
    "        sleep(1)\n",
    "        terminou, df, notificacao, palavra_sorteada, letras_aceitas, tentativa = get_notificacao(palavra_sorteada, df, file, now, session_id, dicionario,tentativa, letras_aceitas)\n",
    "    else:\n",
    "\n",
    "        palavra_sorteada = sorteia_palavra(df.palavra.values.tolist())\n",
    "        #print(palavra_sorteada)\n",
    "\n",
    "        envia_palavra(palavra_sorteada)\n",
    "\n",
    "        #pegar informações da palavra enviada\n",
    "        dicionario = retorna_dicionario_respostas(tentativa)\n",
    "        \n",
    "        #print(palavra_sorteada)\n",
    "        df, letras_aceitas = filtra_df(dicionario, df, letras_aceitas)\n",
    "        #driver.implicitly_wait(30)\n",
    "        sleep(1)\n",
    "        terminou, df, notificacao, palavra_sorteada, letras_aceitas, tentativa = get_notificacao(palavra_sorteada, df, file, now, session_id, dicionario,tentativa, letras_aceitas)\n",
    "    print('tentativa: ',tentativa)\n",
    "    print('palavra sorteada: ',palavra_sorteada) \n",
    "    print('letras aceitas: ',letras_aceitas)\n",
    "    #terminou, df, notificacao, palavra_sorteada, letras_aceitas = get_notificacao(palavra_sorteada, df, file, now, session_id, dicionario,tentativa, letras_aceitas)\n",
    "    \n",
    "    #file.write('tentativa,palavra,resultado,data,session_id\\n')\n",
    "    file.write(f'{tentativa},{palavra_sorteada},{notificacao},{data},{session_id},{variavel_randomica},{dicionario}\\n')\n",
    "    tentativa += 1\n",
    "\n",
    "file.close()"
   ]
  },
  {
   "cell_type": "code",
   "execution_count": 63,
   "id": "ee609b36-6145-4de7-bb61-1f5481697e1f",
   "metadata": {
    "scrolled": true,
    "tags": []
   },
   "outputs": [
    {
     "data": {
      "text/html": [
       "<div>\n",
       "<style scoped>\n",
       "    .dataframe tbody tr th:only-of-type {\n",
       "        vertical-align: middle;\n",
       "    }\n",
       "\n",
       "    .dataframe tbody tr th {\n",
       "        vertical-align: top;\n",
       "    }\n",
       "\n",
       "    .dataframe thead th {\n",
       "        text-align: right;\n",
       "    }\n",
       "</style>\n",
       "<table border=\"1\" class=\"dataframe\">\n",
       "  <thead>\n",
       "    <tr style=\"text-align: right;\">\n",
       "      <th></th>\n",
       "      <th>Unnamed: 0</th>\n",
       "      <th>palavra</th>\n",
       "      <th>n_vogais</th>\n",
       "      <th>vogais_unicas</th>\n",
       "      <th>letra_0</th>\n",
       "      <th>letra_1</th>\n",
       "      <th>letra_2</th>\n",
       "      <th>letra_3</th>\n",
       "      <th>letra_4</th>\n",
       "    </tr>\n",
       "  </thead>\n",
       "  <tbody>\n",
       "    <tr>\n",
       "      <th>0</th>\n",
       "      <td>0</td>\n",
       "      <td>chico</td>\n",
       "      <td>2</td>\n",
       "      <td>2</td>\n",
       "      <td>c</td>\n",
       "      <td>h</td>\n",
       "      <td>i</td>\n",
       "      <td>c</td>\n",
       "      <td>o</td>\n",
       "    </tr>\n",
       "    <tr>\n",
       "      <th>1</th>\n",
       "      <td>1</td>\n",
       "      <td>filho</td>\n",
       "      <td>2</td>\n",
       "      <td>2</td>\n",
       "      <td>f</td>\n",
       "      <td>i</td>\n",
       "      <td>l</td>\n",
       "      <td>h</td>\n",
       "      <td>o</td>\n",
       "    </tr>\n",
       "    <tr>\n",
       "      <th>2</th>\n",
       "      <td>2</td>\n",
       "      <td>golfo</td>\n",
       "      <td>2</td>\n",
       "      <td>1</td>\n",
       "      <td>g</td>\n",
       "      <td>o</td>\n",
       "      <td>l</td>\n",
       "      <td>f</td>\n",
       "      <td>o</td>\n",
       "    </tr>\n",
       "    <tr>\n",
       "      <th>3</th>\n",
       "      <td>3</td>\n",
       "      <td>kioto</td>\n",
       "      <td>3</td>\n",
       "      <td>2</td>\n",
       "      <td>k</td>\n",
       "      <td>i</td>\n",
       "      <td>o</td>\n",
       "      <td>t</td>\n",
       "      <td>o</td>\n",
       "    </tr>\n",
       "    <tr>\n",
       "      <th>4</th>\n",
       "      <td>4</td>\n",
       "      <td>bicho</td>\n",
       "      <td>2</td>\n",
       "      <td>2</td>\n",
       "      <td>b</td>\n",
       "      <td>i</td>\n",
       "      <td>c</td>\n",
       "      <td>h</td>\n",
       "      <td>o</td>\n",
       "    </tr>\n",
       "    <tr>\n",
       "      <th>...</th>\n",
       "      <td>...</td>\n",
       "      <td>...</td>\n",
       "      <td>...</td>\n",
       "      <td>...</td>\n",
       "      <td>...</td>\n",
       "      <td>...</td>\n",
       "      <td>...</td>\n",
       "      <td>...</td>\n",
       "      <td>...</td>\n",
       "    </tr>\n",
       "    <tr>\n",
       "      <th>282</th>\n",
       "      <td>282</td>\n",
       "      <td>obito</td>\n",
       "      <td>3</td>\n",
       "      <td>2</td>\n",
       "      <td>o</td>\n",
       "      <td>b</td>\n",
       "      <td>i</td>\n",
       "      <td>t</td>\n",
       "      <td>o</td>\n",
       "    </tr>\n",
       "    <tr>\n",
       "      <th>283</th>\n",
       "      <td>283</td>\n",
       "      <td>obolo</td>\n",
       "      <td>3</td>\n",
       "      <td>1</td>\n",
       "      <td>o</td>\n",
       "      <td>b</td>\n",
       "      <td>o</td>\n",
       "      <td>l</td>\n",
       "      <td>o</td>\n",
       "    </tr>\n",
       "    <tr>\n",
       "      <th>284</th>\n",
       "      <td>284</td>\n",
       "      <td>odios</td>\n",
       "      <td>3</td>\n",
       "      <td>2</td>\n",
       "      <td>o</td>\n",
       "      <td>d</td>\n",
       "      <td>i</td>\n",
       "      <td>o</td>\n",
       "      <td>s</td>\n",
       "    </tr>\n",
       "    <tr>\n",
       "      <th>285</th>\n",
       "      <td>285</td>\n",
       "      <td>otico</td>\n",
       "      <td>3</td>\n",
       "      <td>2</td>\n",
       "      <td>o</td>\n",
       "      <td>t</td>\n",
       "      <td>i</td>\n",
       "      <td>c</td>\n",
       "      <td>o</td>\n",
       "    </tr>\n",
       "    <tr>\n",
       "      <th>286</th>\n",
       "      <td>286</td>\n",
       "      <td>otimo</td>\n",
       "      <td>3</td>\n",
       "      <td>2</td>\n",
       "      <td>o</td>\n",
       "      <td>t</td>\n",
       "      <td>i</td>\n",
       "      <td>m</td>\n",
       "      <td>o</td>\n",
       "    </tr>\n",
       "  </tbody>\n",
       "</table>\n",
       "<p>287 rows × 9 columns</p>\n",
       "</div>"
      ],
      "text/plain": [
       "     Unnamed: 0 palavra  n_vogais  vogais_unicas letra_0 letra_1 letra_2  \\\n",
       "0             0   chico         2              2       c       h       i   \n",
       "1             1   filho         2              2       f       i       l   \n",
       "2             2   golfo         2              1       g       o       l   \n",
       "3             3   kioto         3              2       k       i       o   \n",
       "4             4   bicho         2              2       b       i       c   \n",
       "..          ...     ...       ...            ...     ...     ...     ...   \n",
       "282         282   obito         3              2       o       b       i   \n",
       "283         283   obolo         3              1       o       b       o   \n",
       "284         284   odios         3              2       o       d       i   \n",
       "285         285   otico         3              2       o       t       i   \n",
       "286         286   otimo         3              2       o       t       i   \n",
       "\n",
       "    letra_3 letra_4  \n",
       "0         c       o  \n",
       "1         h       o  \n",
       "2         f       o  \n",
       "3         t       o  \n",
       "4         h       o  \n",
       "..      ...     ...  \n",
       "282       t       o  \n",
       "283       l       o  \n",
       "284       o       s  \n",
       "285       c       o  \n",
       "286       m       o  \n",
       "\n",
       "[287 rows x 9 columns]"
      ]
     },
     "execution_count": 63,
     "metadata": {},
     "output_type": "execute_result"
    }
   ],
   "source": [
    "df_debug = pd.read_csv('debugando.csv')\n",
    "df_debug"
   ]
  },
  {
   "cell_type": "code",
   "execution_count": 65,
   "id": "3fa4a356-83e3-4289-b7b2-4e854f3c0b44",
   "metadata": {},
   "outputs": [
    {
     "name": "stdout",
     "output_type": "stream",
     "text": [
      "mog\n",
      "[['n', 3]]\n",
      "[['o', 4]]\n"
     ]
    }
   ],
   "source": [
    "df_debug = pd.read_csv('debugando.csv')\n",
    "dicionario_teste = {0: ['letter wrong', 'm'], 1: ['letter wrong', 'o'], 2: ['letter wrong', 'g'], 3: ['letter place', 'n'], 4: ['letter right', 'o']}\n",
    "\n",
    "\n",
    "letras_erradas, letras_lugar_errado, letras_corretas = descompacta_dicionario(dicionario_teste)\n",
    "print(letras_erradas)\n",
    "print(letras_lugar_errado)\n",
    "print(letras_corretas)\n",
    "\n",
    "#achei o erro, algumas vezes ele adiciona a letra ja encontrada como letra errada\n",
    "#solução: criar uma variavel que sempre guarda as letras corretas \n",
    "#e sempre passar elas letras corretas pra não adicionar como letter wrong!"
   ]
  },
  {
   "cell_type": "code",
   "execution_count": null,
   "id": "c3afb35c-d2fd-422a-a915-924569819952",
   "metadata": {},
   "outputs": [],
   "source": [
    "df_debug = palavras_com_letra_posicao_errada(letras_lugar_errado, df_debug)\n",
    "df_debug = letra_na_posicao(letras_corretas, df_debug)\n",
    "df_debug = letras_nao_aceitas(letras_erradas, df_debug)\n",
    "        \n",
    "        \n",
    "df_debug = filtra_df(dicionario_teste, df_debug)\n",
    "df_debug"
   ]
  },
  {
   "cell_type": "code",
   "execution_count": null,
   "id": "a4a2901f-27d4-4684-bf5d-4d6207b90083",
   "metadata": {},
   "outputs": [],
   "source": []
  },
  {
   "cell_type": "code",
   "execution_count": 85,
   "id": "d23624b5-4097-444a-b1a9-dda473298cb1",
   "metadata": {},
   "outputs": [
    {
     "name": "stdout",
     "output_type": "stream",
     "text": [
      "mog\n",
      "[['n', 3]]\n",
      "[['o', 4]]\n"
     ]
    }
   ],
   "source": [
    "df_debug = pd.read_csv('debugando.csv')\n",
    "dicionario_teste = {0: ['letter wrong', 'm'], 1: ['letter wrong', 'o'], 2: ['letter wrong', 'g'], 3: ['letter place', 'n'], 4: ['letter right', 'o']}\n",
    "\n",
    "\n",
    "letras_erradas, letras_lugar_errado, letras_corretas = descompacta_dicionario(dicionario_teste, letras_aceitas)\n",
    "print(letras_erradas)\n",
    "print(letras_lugar_errado)\n",
    "print(letras_corretas)"
   ]
  },
  {
   "cell_type": "code",
   "execution_count": null,
   "id": "89b64fdf-867b-4ab0-bbcf-680ea6a2e74c",
   "metadata": {},
   "outputs": [],
   "source": []
  },
  {
   "cell_type": "code",
   "execution_count": 209,
   "id": "75f195be-27ab-4a9e-b839-792c637d4173",
   "metadata": {
    "jupyter": {
     "source_hidden": true
    },
    "tags": []
   },
   "outputs": [
    {
     "name": "stdout",
     "output_type": "stream",
     "text": [
      "52\n"
     ]
    }
   ],
   "source": [
    "file = open('resultados.txt', 'a')\n",
    "\n",
    "caminho = 'br-utf8.csv'\n",
    "\n",
    "df = carrega_dataframe_csv(caminho)\n",
    "\n",
    "driver = inicializa_termo()\n",
    "\n",
    "\n",
    "terminou = True\n",
    "tentativa = 0\n",
    "\n",
    "now = datetime.now()\n",
    "data = now.strftime(\"%d/%m/%Y\")\n",
    "#hora = now.strftime(\"%H:%M\")\n",
    "session_id = driver.session_id\n",
    "\n",
    "#só verificando o seed que foi gerado pra caso precisar replicar\n",
    "variavel_randomica = 52 #testando o q deu errado!\n",
    "a = random.seed(variavel_randomica)\n",
    "print(variavel_randomica)\n",
    "\n",
    "\n",
    "while terminou == True:\n",
    "    #driver.implicitly_wait(5)\n",
    "    #for tentativa in range(5):\n",
    "    #print(tentativa)\n",
    "    if tentativa == 0:\n",
    "        #print('first')\n",
    "        #pegando a primeira palavra\n",
    "        palavra_sorteada = first_attempt(df)\n",
    "        #print(palavra_sorteada)\n",
    "\n",
    "        #enviando palavra para o site\n",
    "        envia_palavra(palavra_sorteada)\n",
    "\n",
    "        #pegar informações da palavra enviada\n",
    "        dicionario = retorna_dicionario_respostas(tentativa)\n",
    "\n",
    "        #retornar resultado das letras\n",
    "        letras_erradas, letras_lugar_errado, letras_corretas = retorna_resultado_tentativa_palavra(dicionario)\n",
    "\n",
    "        df = palavras_com_letra_posicao_errada(letras_lugar_errado, df)\n",
    "        df = letra_na_posicao(letras_corretas, df)\n",
    "        df = letras_nao_aceitas(letras_erradas, df)\n",
    "        #driver.implicitly_wait(10)\n",
    "        sleep(2)\n",
    "    else:\n",
    "\n",
    "        palavra_sorteada = sorteia_palavra(df.palavra.values.tolist())\n",
    "        #print(palavra_sorteada)\n",
    "\n",
    "        #enviando palavra para o site\n",
    "        envia_palavra(palavra_sorteada)\n",
    "\n",
    "        #pegar informações da palavra enviada\n",
    "        dicionario = retorna_dicionario_respostas(tentativa)\n",
    "\n",
    "        #retornar resultado das letras\n",
    "        letras_erradas, letras_lugar_errado, letras_corretas = retorna_resultado_tentativa_palavra(dicionario)\n",
    "\n",
    "        df = palavras_com_letra_posicao_errada(letras_lugar_errado, df)\n",
    "        df = letra_na_posicao(letras_corretas, df)\n",
    "        df = letras_nao_aceitas(letras_erradas, df)\n",
    "        #driver.implicitly_wait(30)\n",
    "        sleep(2)\n",
    "\n",
    "            \n",
    "    terminou, df, notificacao, palavra_sorteada = get_notificacao(palavra_sorteada, df, file, now, session_id)\n",
    "    \n",
    "    #file.write('tentativa,palavra,resultado,data,session_id\\n')\n",
    "    file.write(f'{tentativa},{palavra_sorteada},{notificacao},{data},{session_id},{variavel_randomica}\\n')\n",
    "    tentativa += 1\n",
    "\n",
    "file.close()"
   ]
  },
  {
   "cell_type": "code",
   "execution_count": 200,
   "id": "861a81be-e617-42f6-a8b2-3f8c53f93143",
   "metadata": {},
   "outputs": [
    {
     "name": "stdout",
     "output_type": "stream",
     "text": [
      "664\n"
     ]
    },
    {
     "data": {
      "text/plain": [
       "804"
      ]
     },
     "execution_count": 200,
     "metadata": {},
     "output_type": "execute_result"
    }
   ],
   "source": [
    "\n",
    "variavel_randomica = random.randint(0,1000)\n",
    "print(variavel_randomica)\n",
    "a = random.seed(variavel_randomica)\n",
    "random.randint(0,1000)"
   ]
  },
  {
   "cell_type": "code",
   "execution_count": 199,
   "id": "490e689e-3689-42eb-8ec9-07c3ef7df9a3",
   "metadata": {},
   "outputs": [
    {
     "data": {
      "text/plain": [
       "583"
      ]
     },
     "execution_count": 199,
     "metadata": {},
     "output_type": "execute_result"
    }
   ],
   "source": [
    "a = random.seed(821)\n",
    "random.randint(0,1000)"
   ]
  },
  {
   "cell_type": "code",
   "execution_count": 201,
   "id": "a5a2ed41-3cec-4182-a21c-33be3a704729",
   "metadata": {},
   "outputs": [
    {
     "data": {
      "text/plain": [
       "804"
      ]
     },
     "execution_count": 201,
     "metadata": {},
     "output_type": "execute_result"
    }
   ],
   "source": [
    "a = random.seed(664)\n",
    "random.randint(0,1000)"
   ]
  },
  {
   "cell_type": "code",
   "execution_count": 150,
   "id": "3ffeb96c-5ee9-4049-a754-c4dbfc0f60ef",
   "metadata": {
    "tags": []
   },
   "outputs": [],
   "source": [
    "#depois procurar pq nao ta funcionando essa funçaõ\n",
    "\n",
    "caminho = 'br-utf8.csv'\n",
    "df = carrega_dataframe_csv(caminho)\n",
    "\n",
    "driver = inicializa_termo()\n",
    "\n",
    "def resolve():\n",
    "    terminou = True\n",
    "    tentativa = 0\n",
    "\n",
    "    while terminou == True:\n",
    "        print(tentativa)\n",
    "        if tentativa == 0:\n",
    "            print('first')\n",
    "            #pegando a primeira palavra\n",
    "            palavra_sorteada = first_attempt(df)\n",
    "            print(palavra_sorteada)\n",
    "\n",
    "            #enviando palavra para o site\n",
    "            envia_palavra(palavra_sorteada)\n",
    "\n",
    "            #pegar informações da palavra enviada\n",
    "            dicionario = retorna_dicionario_respostas(tentativa)\n",
    "\n",
    "            #retornar resultado das letras\n",
    "            letras_erradas, letras_lugar_errado, letras_corretas = retorna_resultado_tentativa_palavra(dicionario)\n",
    "\n",
    "            df = palavras_com_letra_posicao_errada(letras_lugar_errado, df)\n",
    "            df = letra_na_posicao(letras_corretas, df)\n",
    "            df = letras_nao_aceitas(letras_erradas, df)\n",
    "            #driver.implicitly_wait(10)\n",
    "            sleep(2)\n",
    "        else:\n",
    "\n",
    "            palavra_sorteada = sorteia_palavra(df.palavra.values.tolist())\n",
    "            print(palavra_sorteada)\n",
    "\n",
    "            #enviando palavra para o site\n",
    "            envia_palavra(palavra_sorteada)\n",
    "\n",
    "            #pegar informações da palavra enviada\n",
    "            dicionario = retorna_dicionario_respostas(tentativa)\n",
    "\n",
    "            #retornar resultado das letras\n",
    "            letras_erradas, letras_lugar_errado, letras_corretas = retorna_resultado_tentativa_palavra(dicionario)\n",
    "\n",
    "            df = palavras_com_letra_posicao_errada(letras_lugar_errado, df)\n",
    "            df = letra_na_posicao(letras_corretas, df)\n",
    "            df = letras_nao_aceitas(letras_erradas, df)\n",
    "            #driver.implicitly_wait(30)\n",
    "            sleep(2)\n",
    "\n",
    "        terminou, df, notificacao = get_notificacao(palavra_sorteada, df)\n",
    "        print(notificacao)\n",
    "        tentativa += 1"
   ]
  },
  {
   "cell_type": "code",
   "execution_count": null,
   "id": "493c3abc-3392-42f5-a27e-5d34ccfdf981",
   "metadata": {},
   "outputs": [],
   "source": []
  },
  {
   "cell_type": "code",
   "execution_count": null,
   "id": "5080e062-db1c-4c9a-84b2-ebd21469844f",
   "metadata": {},
   "outputs": [],
   "source": []
  },
  {
   "cell_type": "code",
   "execution_count": null,
   "id": "b9b1c2f0-129f-4ad1-b194-7356af38430c",
   "metadata": {},
   "outputs": [],
   "source": []
  },
  {
   "cell_type": "markdown",
   "id": "90c02238-937c-4a02-8ada-ea2d26f1e7cc",
   "metadata": {},
   "source": [
    "# proximo passo seria pegar todas as palavras que mandou pro site e guardar tbm, pra tentar gerar um machine learning"
   ]
  },
  {
   "cell_type": "code",
   "execution_count": null,
   "id": "714c38e8-a9e4-433c-9506-adf05f6b1394",
   "metadata": {},
   "outputs": [],
   "source": []
  }
 ],
 "metadata": {
  "kernelspec": {
   "display_name": "Python 3",
   "language": "python",
   "name": "python3"
  },
  "language_info": {
   "codemirror_mode": {
    "name": "ipython",
    "version": 3
   },
   "file_extension": ".py",
   "mimetype": "text/x-python",
   "name": "python",
   "nbconvert_exporter": "python",
   "pygments_lexer": "ipython3",
   "version": "3.9.4"
  }
 },
 "nbformat": 4,
 "nbformat_minor": 5
}
